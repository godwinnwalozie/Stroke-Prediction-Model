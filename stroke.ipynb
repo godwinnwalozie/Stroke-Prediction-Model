{
 "cells": [
  {
   "cell_type": "markdown",
   "metadata": {},
   "source": [
    "\n",
    "## Stroke Prediction Dataset\n",
    "### 11 clinical features for predicting stroke events"
   ]
  },
  {
   "cell_type": "code",
   "execution_count": 1,
   "metadata": {},
   "outputs": [],
   "source": [
    "# importing the needed libraries\n",
    "import pandas as pd\n",
    "import numpy as np\n",
    "import matplotlib.pyplot as plt\n",
    "import seaborn as sns\n",
    "from dython.nominal import associations\n",
    "sns.set_theme(style=\"whitegrid\")\n"
   ]
  },
  {
   "cell_type": "code",
   "execution_count": 2,
   "metadata": {},
   "outputs": [
    {
     "data": {
      "text/html": [
       "<div>\n",
       "<style scoped>\n",
       "    .dataframe tbody tr th:only-of-type {\n",
       "        vertical-align: middle;\n",
       "    }\n",
       "\n",
       "    .dataframe tbody tr th {\n",
       "        vertical-align: top;\n",
       "    }\n",
       "\n",
       "    .dataframe thead th {\n",
       "        text-align: right;\n",
       "    }\n",
       "</style>\n",
       "<table border=\"1\" class=\"dataframe\">\n",
       "  <thead>\n",
       "    <tr style=\"text-align: right;\">\n",
       "      <th></th>\n",
       "      <th>id</th>\n",
       "      <th>gender</th>\n",
       "      <th>age</th>\n",
       "      <th>hypertension</th>\n",
       "      <th>heart_disease</th>\n",
       "      <th>ever_married</th>\n",
       "      <th>work_type</th>\n",
       "      <th>Residence_type</th>\n",
       "      <th>avg_glucose_level</th>\n",
       "      <th>bmi</th>\n",
       "      <th>smoking_status</th>\n",
       "      <th>stroke</th>\n",
       "    </tr>\n",
       "  </thead>\n",
       "  <tbody>\n",
       "    <tr>\n",
       "      <th>231</th>\n",
       "      <td>12917</td>\n",
       "      <td>Female</td>\n",
       "      <td>79.0</td>\n",
       "      <td>0</td>\n",
       "      <td>0</td>\n",
       "      <td>Yes</td>\n",
       "      <td>Private</td>\n",
       "      <td>Urban</td>\n",
       "      <td>97.73</td>\n",
       "      <td>21.5</td>\n",
       "      <td>smokes</td>\n",
       "      <td>1</td>\n",
       "    </tr>\n",
       "  </tbody>\n",
       "</table>\n",
       "</div>"
      ],
      "text/plain": [
       "        id  gender   age  hypertension  heart_disease ever_married work_type  \\\n",
       "231  12917  Female  79.0             0              0          Yes   Private   \n",
       "\n",
       "    Residence_type  avg_glucose_level   bmi smoking_status  stroke  \n",
       "231          Urban              97.73  21.5         smokes       1  "
      ]
     },
     "execution_count": 2,
     "metadata": {},
     "output_type": "execute_result"
    }
   ],
   "source": [
    "# import dataset\n",
    "df = pd.read_csv(\"stroke-data.csv\")\n",
    "df.sample()"
   ]
  },
  {
   "cell_type": "code",
   "execution_count": 4,
   "metadata": {},
   "outputs": [
    {
     "data": {
      "text/html": [
       "<div>\n",
       "<style scoped>\n",
       "    .dataframe tbody tr th:only-of-type {\n",
       "        vertical-align: middle;\n",
       "    }\n",
       "\n",
       "    .dataframe tbody tr th {\n",
       "        vertical-align: top;\n",
       "    }\n",
       "\n",
       "    .dataframe thead th {\n",
       "        text-align: right;\n",
       "    }\n",
       "</style>\n",
       "<table border=\"1\" class=\"dataframe\">\n",
       "  <thead>\n",
       "    <tr style=\"text-align: right;\">\n",
       "      <th></th>\n",
       "      <th>age</th>\n",
       "      <th>gender</th>\n",
       "    </tr>\n",
       "  </thead>\n",
       "  <tbody>\n",
       "    <tr>\n",
       "      <th>0</th>\n",
       "      <td>67.0</td>\n",
       "      <td>Male</td>\n",
       "    </tr>\n",
       "    <tr>\n",
       "      <th>1</th>\n",
       "      <td>61.0</td>\n",
       "      <td>Female</td>\n",
       "    </tr>\n",
       "    <tr>\n",
       "      <th>2</th>\n",
       "      <td>80.0</td>\n",
       "      <td>Male</td>\n",
       "    </tr>\n",
       "    <tr>\n",
       "      <th>3</th>\n",
       "      <td>49.0</td>\n",
       "      <td>Female</td>\n",
       "    </tr>\n",
       "    <tr>\n",
       "      <th>4</th>\n",
       "      <td>79.0</td>\n",
       "      <td>Female</td>\n",
       "    </tr>\n",
       "    <tr>\n",
       "      <th>...</th>\n",
       "      <td>...</td>\n",
       "      <td>...</td>\n",
       "    </tr>\n",
       "    <tr>\n",
       "      <th>5105</th>\n",
       "      <td>80.0</td>\n",
       "      <td>Female</td>\n",
       "    </tr>\n",
       "    <tr>\n",
       "      <th>5106</th>\n",
       "      <td>81.0</td>\n",
       "      <td>Female</td>\n",
       "    </tr>\n",
       "    <tr>\n",
       "      <th>5107</th>\n",
       "      <td>35.0</td>\n",
       "      <td>Female</td>\n",
       "    </tr>\n",
       "    <tr>\n",
       "      <th>5108</th>\n",
       "      <td>51.0</td>\n",
       "      <td>Male</td>\n",
       "    </tr>\n",
       "    <tr>\n",
       "      <th>5109</th>\n",
       "      <td>44.0</td>\n",
       "      <td>Female</td>\n",
       "    </tr>\n",
       "  </tbody>\n",
       "</table>\n",
       "<p>5110 rows × 2 columns</p>\n",
       "</div>"
      ],
      "text/plain": [
       "       age  gender\n",
       "0     67.0    Male\n",
       "1     61.0  Female\n",
       "2     80.0    Male\n",
       "3     49.0  Female\n",
       "4     79.0  Female\n",
       "...    ...     ...\n",
       "5105  80.0  Female\n",
       "5106  81.0  Female\n",
       "5107  35.0  Female\n",
       "5108  51.0    Male\n",
       "5109  44.0  Female\n",
       "\n",
       "[5110 rows x 2 columns]"
      ]
     },
     "execution_count": 4,
     "metadata": {},
     "output_type": "execute_result"
    }
   ],
   "source": [
    "age_hyper = df.loc[:,[\"age\",\"gender\"]]\n",
    "age_hyper"
   ]
  },
  {
   "cell_type": "code",
   "execution_count": 5,
   "metadata": {},
   "outputs": [],
   "source": [
    "age_hyper['age_cat'] = age_hyper.age.apply(lambda x :  \"0-2\" if 0 <= x<2 else\n",
    "                                            \"2-5\" if 2<= x<= 5 else\n",
    "                                            \"6-13\" if 5< x< 13 else\n",
    "                                            \"13-18\" if 13<= x< 18 else\n",
    "                                            \"18-30\" if 18<= x< 30 else\n",
    "                                            \"30-40\" if 30<= x< 40 else\n",
    "                                            \"40-50\" if 40<= x< 50 else\n",
    "                                            \"50-65\" if 50<= x< 65 else\n",
    "                                            \"65+\" if x>= 65 else \"not known\"\n",
    "                                )"
   ]
  },
  {
   "cell_type": "code",
   "execution_count": 9,
   "metadata": {},
   "outputs": [
    {
     "data": {
      "text/html": [
       "<div>\n",
       "<style scoped>\n",
       "    .dataframe tbody tr th:only-of-type {\n",
       "        vertical-align: middle;\n",
       "    }\n",
       "\n",
       "    .dataframe tbody tr th {\n",
       "        vertical-align: top;\n",
       "    }\n",
       "\n",
       "    .dataframe thead th {\n",
       "        text-align: right;\n",
       "    }\n",
       "</style>\n",
       "<table border=\"1\" class=\"dataframe\">\n",
       "  <thead>\n",
       "    <tr style=\"text-align: right;\">\n",
       "      <th>gender</th>\n",
       "      <th>Female</th>\n",
       "      <th>Male</th>\n",
       "      <th>Other</th>\n",
       "    </tr>\n",
       "    <tr>\n",
       "      <th>age_cat</th>\n",
       "      <th></th>\n",
       "      <th></th>\n",
       "      <th></th>\n",
       "    </tr>\n",
       "  </thead>\n",
       "  <tbody>\n",
       "    <tr>\n",
       "      <th>0-2</th>\n",
       "      <td>57.0</td>\n",
       "      <td>63.0</td>\n",
       "      <td>NaN</td>\n",
       "    </tr>\n",
       "    <tr>\n",
       "      <th>13-18</th>\n",
       "      <td>144.0</td>\n",
       "      <td>124.0</td>\n",
       "      <td>NaN</td>\n",
       "    </tr>\n",
       "    <tr>\n",
       "      <th>18-30</th>\n",
       "      <td>436.0</td>\n",
       "      <td>222.0</td>\n",
       "      <td>1.0</td>\n",
       "    </tr>\n",
       "    <tr>\n",
       "      <th>2-5</th>\n",
       "      <td>98.0</td>\n",
       "      <td>102.0</td>\n",
       "      <td>NaN</td>\n",
       "    </tr>\n",
       "    <tr>\n",
       "      <th>30-40</th>\n",
       "      <td>417.0</td>\n",
       "      <td>238.0</td>\n",
       "      <td>NaN</td>\n",
       "    </tr>\n",
       "    <tr>\n",
       "      <th>40-50</th>\n",
       "      <td>450.0</td>\n",
       "      <td>280.0</td>\n",
       "      <td>NaN</td>\n",
       "    </tr>\n",
       "    <tr>\n",
       "      <th>50-65</th>\n",
       "      <td>663.0</td>\n",
       "      <td>520.0</td>\n",
       "      <td>NaN</td>\n",
       "    </tr>\n",
       "    <tr>\n",
       "      <th>6-13</th>\n",
       "      <td>119.0</td>\n",
       "      <td>149.0</td>\n",
       "      <td>NaN</td>\n",
       "    </tr>\n",
       "    <tr>\n",
       "      <th>65+</th>\n",
       "      <td>610.0</td>\n",
       "      <td>417.0</td>\n",
       "      <td>NaN</td>\n",
       "    </tr>\n",
       "  </tbody>\n",
       "</table>\n",
       "</div>"
      ],
      "text/plain": [
       "gender   Female   Male  Other\n",
       "age_cat                      \n",
       "0-2        57.0   63.0    NaN\n",
       "13-18     144.0  124.0    NaN\n",
       "18-30     436.0  222.0    1.0\n",
       "2-5        98.0  102.0    NaN\n",
       "30-40     417.0  238.0    NaN\n",
       "40-50     450.0  280.0    NaN\n",
       "50-65     663.0  520.0    NaN\n",
       "6-13      119.0  149.0    NaN\n",
       "65+       610.0  417.0    NaN"
      ]
     },
     "execution_count": 9,
     "metadata": {},
     "output_type": "execute_result"
    }
   ],
   "source": [
    "pivot_age = age_hyper.pivot_table(index = 'age_cat', columns='gender', values=\"age\", aggfunc= 'count')\n",
    "pivot_age"
   ]
  },
  {
   "cell_type": "code",
   "execution_count": 12,
   "metadata": {},
   "outputs": [
    {
     "data": {
      "text/plain": [
       "<AxesSubplot:xlabel='age_cat'>"
      ]
     },
     "execution_count": 12,
     "metadata": {},
     "output_type": "execute_result"
    },
    {
     "data": {
      "image/png": "[encoded data removed]",
      "text/plain": [
       "<Figure size 432x288 with 1 Axes>"
      ]
     },
     "metadata": {},
     "output_type": "display_data"
    }
   ],
   "source": [
    "pivot_age.plot(kind = 'bar')"
   ]
  },
  {
   "cell_type": "code",
   "execution_count": null,
   "metadata": {},
   "outputs": [],
   "source": [
    "df.age.value_counts()"
   ]
  },
  {
   "cell_type": "code",
   "execution_count": null,
   "metadata": {},
   "outputs": [],
   "source": [
    "df.shape"
   ]
  },
  {
   "cell_type": "code",
   "execution_count": null,
   "metadata": {},
   "outputs": [],
   "source": [
    "gender_stat = df.gender.value_counts().to_frame()\n",
    "gender_stat"
   ]
  },
  {
   "cell_type": "code",
   "execution_count": null,
   "metadata": {},
   "outputs": [],
   "source": [
    "sns.barplot(data = gender_stat, x = gender_stat.index, y = gender_stat['gender'] )"
   ]
  },
  {
   "cell_type": "code",
   "execution_count": null,
   "metadata": {},
   "outputs": [],
   "source": [
    "# check for null values\n",
    "df.isna().sum()"
   ]
  },
  {
   "cell_type": "code",
   "execution_count": null,
   "metadata": {},
   "outputs": [],
   "source": [
    "df.stroke.value_counts().plot(kind= \"pie\", autopct = \"%.1f%%\", figsize = (10,10), explode = (0.01,0.05));"
   ]
  },
  {
   "cell_type": "code",
   "execution_count": null,
   "metadata": {},
   "outputs": [],
   "source": [
    "df.age = df.age.astype(\"int\")\n",
    "df.bmi.fillna(df.bmi.mean(), inplace= True)"
   ]
  },
  {
   "cell_type": "code",
   "execution_count": null,
   "metadata": {},
   "outputs": [],
   "source": [
    "fig,ax =plt.subplots(figsize = (14,6))\n",
    "sns.regplot(df.bmi, df.age)"
   ]
  },
  {
   "cell_type": "code",
   "execution_count": null,
   "metadata": {},
   "outputs": [],
   "source": [
    "# feature correlation\n",
    "fig,ax =plt.subplots(figsize = (14,6))\n",
    "feature_check =sns.heatmap(df.corr(), cmap = \"Blues\", annot = True)\n",
    "feature_check"
   ]
  },
  {
   "cell_type": "markdown",
   "metadata": {},
   "source": [
    "## Preprocessing , change strings to numeric with OneHotEncoder"
   ]
  },
  {
   "cell_type": "code",
   "execution_count": null,
   "metadata": {},
   "outputs": [],
   "source": [
    "from sklearn.preprocessing import OneHotEncoder\n",
    "from sklearn.compose import make_column_transformer\n",
    "from sklearn.preprocessing import LabelEncoder\n",
    "\n",
    "le = LabelEncoder()\n",
    "\n",
    "df.gender =le.fit_transform(df.gender)\n",
    "df.work_type =le.fit_transform(df.work_type)\n",
    "df.Residence_type =le.fit_transform(df.Residence_type)\n",
    "df.smoking_status =le.fit_transform(df.smoking_status)\n",
    "\n",
    "df.sample()"
   ]
  },
  {
   "cell_type": "code",
   "execution_count": null,
   "metadata": {},
   "outputs": [],
   "source": [
    "# splitting the dataset into X an y\n",
    "X = df.drop([\"id\",\"stroke\",\"ever_married\",\"work_type\"], axis =1)\n",
    "y = df.stroke\n",
    "X.shape, y.shape\n",
    "X"
   ]
  },
  {
   "cell_type": "code",
   "execution_count": null,
   "metadata": {},
   "outputs": [],
   "source": []
  },
  {
   "cell_type": "code",
   "execution_count": null,
   "metadata": {},
   "outputs": [],
   "source": [
    "from imblearn.over_sampling import SMOTE\n",
    "sm = SMOTE(random_state=0)\n",
    "X_res, y_res = sm.fit_resample(X, y)"
   ]
  },
  {
   "cell_type": "code",
   "execution_count": null,
   "metadata": {},
   "outputs": [],
   "source": [
    "from sklearn.model_selection import train_test_split , cross_val_score\n",
    "X_train,X_test ,y_train ,y_test = train_test_split(X_res,y_res, test_size = 0.3, random_state = 42)  \n",
    "X_train.shape ,X_test.shape  ,y_train.shape ,y_test.shape"
   ]
  },
  {
   "cell_type": "markdown",
   "metadata": {},
   "source": [
    "# Import needed estimators and libraries"
   ]
  },
  {
   "cell_type": "code",
   "execution_count": null,
   "metadata": {},
   "outputs": [],
   "source": [
    "from sklearn.metrics import classification_report, confusion_matrix, accuracy_score"
   ]
  },
  {
   "cell_type": "code",
   "execution_count": null,
   "metadata": {},
   "outputs": [],
   "source": [
    "from sklearn.linear_model import LogisticRegression\n",
    "lgr = LogisticRegression(solver='lbfgs', max_iter=1000, random_state = 42)\n",
    "lgr.fit(X_train,y_train)\n",
    "print(f' Training -Set Accuracy score is {lgr.score(X_train, y_train)*100:.2f}%')\n",
    "print(f' Testing - Set Accuracy score is {lgr.score(X_test, y_test)*100:.2f}%')\n",
    "y_pred1 = lgr.predict(X_test)\n",
    "cm = confusion_matrix(y_test, y_pred1)\n",
    "\n",
    "print()\n",
    "fig,ax = plt.subplots(figsize = (10,6))\n",
    "sns.heatmap(pd.DataFrame(cm, columns =['no',\"yes\"], \\\n",
    "    index = [\"no\", \"yes\"]),cmap = 'Reds',xticklabels = True, annot =True,fmt = \"d\", ax = ax)\n",
    "ax.set(title =\"Confusion Matrix\");\n",
    "\n",
    "print()\n",
    "cr1 = classification_report(y_test, y_pred1)\n",
    "print(cr1)"
   ]
  },
  {
   "cell_type": "code",
   "execution_count": null,
   "metadata": {},
   "outputs": [],
   "source": [
    "from sklearn.ensemble import RandomForestClassifier\n",
    "clf = RandomForestClassifier(n_estimators= 100, n_jobs = 1 , random_state = 42)\n",
    "clf.fit(X_train,y_train)\n",
    "\n",
    "print(f' Training -Set Accuracy score is {clf.score(X_train, y_train)*100:.2f}%')\n",
    "print(f' Testing - Set Accuracy score is {clf.score(X_test, y_test)*100:.2f}%')\n",
    "\n",
    "y_pred2 = clf.predict(X_test)\n",
    "confusion_mx = confusion_matrix(y_test, y_pred2)\n",
    "\n",
    "conf_max_df = pd.DataFrame(confusion_mx, index =[\"Low Risk\", \"High risk\"], columns =[\"Low Risk\", \"High risk\"])\n",
    "\n",
    "print()\n",
    "fig,ax = plt.subplots(figsize = (5,3))\n",
    "sns.heatmap(conf_max_df,\\\n",
    "cmap = 'Reds',xticklabels = True, annot =True,fmt = \"d\", ax = ax)\n",
    "ax.set(title =\"Confusion Matrix\");\n",
    "\n",
    "print()\n",
    "cr2 = classification_report(y_test, y_pred2)\n",
    "print(cr2)"
   ]
  },
  {
   "cell_type": "code",
   "execution_count": null,
   "metadata": {},
   "outputs": [],
   "source": [
    "conf_max_df.to_csv(\"conf_max_df.csv\", index = False)\n"
   ]
  },
  {
   "cell_type": "markdown",
   "metadata": {},
   "source": [
    "## Save the model"
   ]
  },
  {
   "cell_type": "code",
   "execution_count": null,
   "metadata": {},
   "outputs": [],
   "source": [
    "import pickle\n",
    "pickle.dump(clf, open(\"estimator_pkl\", \"wb\"))"
   ]
  },
  {
   "cell_type": "code",
   "execution_count": null,
   "metadata": {},
   "outputs": [],
   "source": [
    "#import joblib\n",
    "#joblib.dump(\"clf\",\"estimator_jolib\")"
   ]
  }
 ],
 "metadata": {
  "kernelspec": {
   "display_name": "Python 3.8.8 ('base')",
   "language": "python",
   "name": "python3"
  },
  "language_info": {
   "codemirror_mode": {
    "name": "ipython",
    "version": 3
   },
   "file_extension": ".py",
   "mimetype": "text/x-python",
   "name": "python",
   "nbconvert_exporter": "python",
   "pygments_lexer": "ipython3",
   "version": "3.8.8"
  },
  "vscode": {
   "interpreter": {
    "hash": "04432e9cb04e2fb3149b8a5784993b7cc60c7311097686f676b8575bd3fcad92"
   }
  }
 },
 "nbformat": 4,
 "nbformat_minor": 4
}
